{
 "cells": [
  {
   "cell_type": "code",
   "execution_count": null,
   "id": "088bb7dc",
   "metadata": {},
   "outputs": [],
   "source": [
    "import numpy as np\n",
    "import matplotlib.pyplot as plt"
   ]
  },
  {
   "cell_type": "code",
   "execution_count": null,
   "id": "2163b2ce",
   "metadata": {},
   "outputs": [],
   "source": [
    "from twoDsampler import twoDsamplefromGaussian as tDsfG"
   ]
  },
  {
   "cell_type": "code",
   "execution_count": null,
   "id": "f190e7d7",
   "metadata": {},
   "outputs": [],
   "source": [
    "#making my probability function:\n",
    "\n",
    "#set parameters, arrays\n",
    "a=2\n",
    "b=3\n",
    "sig_y=0.5\n",
    "data_len=10\n",
    "y_i=np.zeros(data_len)\n",
    "x_i=np.zeros(data_len)\n",
    "\n",
    "def y_hat(x_i):\n",
    "    return(a*x_i+b)\n",
    "\n",
    "pi=np.pi\n",
    "e=np.e\n",
    "\n",
    "#create my x array, going to choose even spacing\n",
    "x_i=np.arange(0,data_len)\n",
    "\n",
    "from numpy import random\n",
    "for i in range(len(x_i)):\n",
    "    mean=a*x_i[i]+b\n",
    "    sigma=sig_y\n",
    "\n",
    "    s = np.random.normal(mean, sigma, 1)\n",
    "    y_i[i]=s\n",
    "    \n",
    "#print(y_i)\n",
    "\n",
    "plt.plot(x_i,y_hat(x_i), label=\"true y value\")\n",
    "plt.errorbar(x_i,y_i, yerr=sig_y, fmt='o', label=\"measured value\")\n",
    "plt.legend()\n",
    "plt.ylabel(\"y\")\n",
    "plt.xlabel(\"x\")\n",
    "\n",
    "a_guess=np.linspace(a*0.8,a*1.2,500)\n",
    "b_guess=np.linspace(b*0.8,b*1.2,400)\n",
    "\n",
    "aa,bb=np.meshgrid(a_guess,b_guess)\n",
    "chi2vals = np.zeros(np.prod(aa.shape))\n",
    "\n",
    "#probability function\n",
    "def prob(point):\n",
    "    a_val,b_val=point\n",
    "    val= -0.5*np.sum(((y_i-(a_val*x_i+b_val))/(sig_y))**2 )\n",
    "    return val\n"
   ]
  },
  {
   "cell_type": "code",
   "execution_count": null,
   "id": "f6c85521",
   "metadata": {},
   "outputs": [],
   "source": [
    "#print(prob([2,3])/prob([0,2]))\n",
    "#print(prob([0,2])/prob([2,3]))\n",
    "print(prob([2,3]))\n",
    "print(-0.5*np.sum(((y_i-(2*x_i+3))/(sig_y))**2 ))\n",
    "print(sig_y)"
   ]
  },
  {
   "cell_type": "code",
   "execution_count": null,
   "id": "90c688c5",
   "metadata": {},
   "outputs": [],
   "source": [
    "#need to sample through a,b space with 2D sampler\n",
    "#the sampler moves along the gradient of the probability function\n",
    "\n",
    "maxstepa=0.1\n",
    "maxstepb=0.1\n",
    "initialpoint=[3,2]\n",
    "numsteps=10000\n",
    "samples=tDsfG(prob, maxstepa, maxstepb, initialpoint, numsteps)\n"
   ]
  },
  {
   "cell_type": "code",
   "execution_count": null,
   "id": "e38fea74",
   "metadata": {},
   "outputs": [],
   "source": [
    "plt.plot(samples[:,1])\n",
    "plt.plot(samples[:,0])"
   ]
  },
  {
   "cell_type": "code",
   "execution_count": null,
   "id": "18688117",
   "metadata": {},
   "outputs": [],
   "source": [
    "plt.scatter(samples[:,0], samples[:,1])\n",
    "print(samples.shape)"
   ]
  },
  {
   "cell_type": "code",
   "execution_count": null,
   "id": "c9f2e80d",
   "metadata": {},
   "outputs": [],
   "source": [
    "from corner import corner\n",
    "fig = corner(samples[300::100], truths = [2,3])\n",
    "\n",
    "#burn in of first 300 and only uses every 100th sample\n",
    "#we need to use every nth data point because of the correlation between one data point and the next\n",
    "#this is due to the finite step size of the sampler so that it sees the whole probability space\n",
    "#the further away  2 points are the lower the correlation (in general I think)\n",
    "#truths is the value of a and b used to generate the random data"
   ]
  },
  {
   "cell_type": "code",
   "execution_count": null,
   "id": "a166db1d",
   "metadata": {},
   "outputs": [],
   "source": [
    "#print(samples)"
   ]
  },
  {
   "cell_type": "code",
   "execution_count": null,
   "id": "f9422dd3",
   "metadata": {},
   "outputs": [],
   "source": []
  }
 ],
 "metadata": {
  "kernelspec": {
   "display_name": "Python 3 (ipykernel)",
   "language": "python",
   "name": "python3"
  },
  "language_info": {
   "codemirror_mode": {
    "name": "ipython",
    "version": 3
   },
   "file_extension": ".py",
   "mimetype": "text/x-python",
   "name": "python",
   "nbconvert_exporter": "python",
   "pygments_lexer": "ipython3",
   "version": "3.9.16"
  }
 },
 "nbformat": 4,
 "nbformat_minor": 5
}
