{
 "cells": [
  {
   "cell_type": "code",
   "execution_count": 1,
   "id": "b89f9038",
   "metadata": {},
   "outputs": [],
   "source": [
    "import numpy as np\n",
    "import matplotlib.pyplot as plt"
   ]
  },
  {
   "cell_type": "code",
   "execution_count": 2,
   "id": "0234e340",
   "metadata": {},
   "outputs": [],
   "source": [
    "from twoDsampler import twoDsamplefromGaussian as tDsfG"
   ]
  },
  {
   "cell_type": "code",
   "execution_count": 3,
   "id": "1a30bd78",
   "metadata": {},
   "outputs": [
    {
     "data": {
      "image/png": "[encoded data removed]",
      "text/plain": [
       "<Figure size 432x288 with 1 Axes>"
      ]
     },
     "metadata": {
      "needs_background": "light"
     },
     "output_type": "display_data"
    }
   ],
   "source": [
    "#making my probability function:\n",
    "\n",
    "#set parameters, arrays\n",
    "a=2\n",
    "b=3\n",
    "sig_y=0.5\n",
    "data_len=10\n",
    "y_i=np.zeros(data_len)\n",
    "x_i=np.zeros(data_len)\n",
    "\n",
    "def y_hat(x_i):\n",
    "    return(a*x_i+b)\n",
    "\n",
    "pi=np.pi\n",
    "e=np.e\n",
    "\n",
    "#create my x array, going to choose even spacing\n",
    "x_i=np.arange(0,data_len)\n",
    "\n",
    "from numpy import random\n",
    "for i in range(len(x_i)):\n",
    "    mean=a*x_i[i]+b\n",
    "    sigma=sig_y\n",
    "\n",
    "    s = np.random.normal(mean, sigma, 1)\n",
    "    y_i[i]=s\n",
    "    \n",
    "#print(y_i)\n",
    "\n",
    "plt.plot(x_i,y_hat(x_i), label=\"true y value\")\n",
    "plt.errorbar(x_i,y_i, yerr=sig_y, fmt='o', label=\"measured value\")\n",
    "plt.legend()\n",
    "plt.ylabel(\"y\")\n",
    "plt.xlabel(\"x\")\n",
    "\n",
    "a_guess=np.linspace(a*0.8,a*1.2,500)\n",
    "b_guess=np.linspace(b*0.8,b*1.2,400)\n",
    "\n",
    "aa,bb=np.meshgrid(a_guess,b_guess)\n",
    "chi2vals = np.zeros(np.prod(aa.shape))\n",
    "\n",
    "#probability function\n",
    "def prob(point):\n",
    "    a_val,b_val=point\n",
    "    val=-0.5*np.sum(((y_i-(a_val*x_i+b_val))/(sig_y))**2 )\n",
    "    return val\n"
   ]
  },
  {
   "cell_type": "code",
   "execution_count": 8,
   "id": "84472946",
   "metadata": {},
   "outputs": [
    {
     "name": "stdout",
     "output_type": "stream",
     "text": [
      "0.0011601119618104869\n",
      "-2759.2115838964405\n"
     ]
    }
   ],
   "source": [
    "print(prob([2,3])/prob([0,2]))\n",
    "print(prob([0,2]))"
   ]
  },
  {
   "cell_type": "code",
   "execution_count": 5,
   "id": "7f35f0d8",
   "metadata": {},
   "outputs": [
    {
     "name": "stderr",
     "output_type": "stream",
     "text": [
      "100%|██████████████████████████████████████| 999/999 [00:00<00:00, 12997.14it/s]\n"
     ]
    }
   ],
   "source": [
    "#need to sample through a,b space with 2D sampler\n",
    "#the sampler moves along the gradient of the probability function\n",
    "\n",
    "maxstepa=0.05\n",
    "maxstepb=0.02\n",
    "initialpoint=[5,4]\n",
    "numsteps=1000\n",
    "samples=tDsfG(prob, maxstepa, maxstepb, initialpoint, numsteps)\n"
   ]
  },
  {
   "cell_type": "code",
   "execution_count": 6,
   "id": "5241bc4a",
   "metadata": {},
   "outputs": [
    {
     "data": {
      "text/plain": [
       "<matplotlib.collections.PathCollection at 0x7fa2ee644490>"
      ]
     },
     "execution_count": 6,
     "metadata": {},
     "output_type": "execute_result"
    },
    {
     "data": {
      "image/png": "[encoded data removed]",
      "text/plain": [
       "<Figure size 432x288 with 1 Axes>"
      ]
     },
     "metadata": {
      "needs_background": "light"
     },
     "output_type": "display_data"
    }
   ],
   "source": [
    "plt.scatter(samples[:,0], samples[:,1])\n"
   ]
  },
  {
   "cell_type": "code",
   "execution_count": 7,
   "id": "b6805acd",
   "metadata": {},
   "outputs": [
    {
     "name": "stdout",
     "output_type": "stream",
     "text": [
      "[[5.         4.        ]\n",
      " [5.         4.        ]\n",
      " [5.         4.        ]\n",
      " ...\n",
      " [2.03871503 3.01059385]\n",
      " [2.03871503 3.01059385]\n",
      " [2.03871503 3.01059385]]\n"
     ]
    }
   ],
   "source": [
    "print(samples)"
   ]
  },
  {
   "cell_type": "code",
   "execution_count": null,
   "id": "26e86f6e",
   "metadata": {},
   "outputs": [],
   "source": []
  }
 ],
 "metadata": {
  "kernelspec": {
   "display_name": "Python 3 (ipykernel)",
   "language": "python",
   "name": "python3"
  },
  "language_info": {
   "codemirror_mode": {
    "name": "ipython",
    "version": 3
   },
   "file_extension": ".py",
   "mimetype": "text/x-python",
   "name": "python",
   "nbconvert_exporter": "python",
   "pygments_lexer": "ipython3",
   "version": "3.9.7"
  }
 },
 "nbformat": 4,
 "nbformat_minor": 5
}
