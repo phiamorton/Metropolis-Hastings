{
 "cells": [
  {
   "cell_type": "code",
   "execution_count": 1,
   "id": "149a9abe",
   "metadata": {},
   "outputs": [],
   "source": [
    "import numpy as np\n",
    "import matplotlib.pyplot as plt"
   ]
  },
  {
   "cell_type": "code",
   "execution_count": 2,
   "id": "3e51c75e",
   "metadata": {},
   "outputs": [],
   "source": [
    "from twoDsampler import twoDsamplefromGaussian as tDsfG"
   ]
  },
  {
   "cell_type": "code",
   "execution_count": 5,
   "id": "9ddef638",
   "metadata": {},
   "outputs": [
    {
     "data": {
      "image/png": "[encoded data removed]",
      "text/plain": [
       "<Figure size 432x288 with 1 Axes>"
      ]
     },
     "metadata": {
      "needs_background": "light"
     },
     "output_type": "display_data"
    }
   ],
   "source": [
    "#making my probability function:\n",
    "\n",
    "#set parameters, arrays\n",
    "a=2\n",
    "b=3\n",
    "sig_y=0.5\n",
    "data_len=10\n",
    "y_i=np.zeros(data_len)\n",
    "x_i=np.zeros(data_len)\n",
    "\n",
    "def y_hat(x_i):\n",
    "    return(a*x_i+b)\n",
    "\n",
    "pi=np.pi\n",
    "e=np.e\n",
    "\n",
    "#create my x array, going to choose even spacing\n",
    "x_i=np.arange(0,data_len)\n",
    "\n",
    "from numpy import random\n",
    "for i in range(len(x_i)):\n",
    "    mean=a*x_i[i]+b\n",
    "    sigma=sig_y\n",
    "\n",
    "    s = np.random.normal(mean, sigma, 1)\n",
    "    y_i[i]=s\n",
    "    \n",
    "#print(y_i)\n",
    "\n",
    "plt.plot(x_i,y_hat(x_i), label=\"true y value\")\n",
    "plt.errorbar(x_i,y_i, yerr=sig_y, fmt='o', label=\"measured value\")\n",
    "plt.legend()\n",
    "plt.ylabel(\"y\")\n",
    "plt.xlabel(\"x\")\n",
    "\n",
    "a_guess=np.linspace(a*0.8,a*1.2,500)\n",
    "b_guess=np.linspace(b*0.8,b*1.2,400)\n",
    "\n",
    "aa,bb=np.meshgrid(a_guess,b_guess)\n",
    "chi2vals = np.zeros(np.prod(aa.shape))\n",
    "\n",
    "\n",
    "def prob(a_val, b_val,x_i,y_i,sig_y):\n",
    "    val=np.exp(-0.5*np.sum(((y_i-(a_val*x_i+b_val))/(sig_y))**2 ))\n",
    "    return val\n",
    "\n",
    "# # for i in range(len(a_guess)-1):\n",
    "# #     for j in range(len(b_guess)-1):\n",
    "# #         chi2valstest[i][j]=chi2(a_guess[i],b_guess[j],x_i,y_i,sig_y)\n",
    "\n",
    "# for i,(ai,bi) in enumerate(zip(aa.flatten(),bb.flatten())):\n",
    "#     chi2vals[i]=chi2(ai,bi,x_i,y_i,sig_y)\n",
    "    \n"
   ]
  },
  {
   "cell_type": "code",
   "execution_count": null,
   "id": "ab768058",
   "metadata": {},
   "outputs": [],
   "source": [
    "#need to sample through a,b space with 2D sampler\n",
    "#the sampler moves along the gradient of the probability function\n",
    "maxstepa=0.05\n",
    "maxstepb=0.2\n",
    "initialpoint=[0,0]\n",
    "numsteps=100000\n",
    "samples=tDsfG(function, maxstepa, maxstepb, initialpoint, numsteps)\n",
    "plt.scatter(aa,bb,samples)"
   ]
  }
 ],
 "metadata": {
  "kernelspec": {
   "display_name": "Python 3 (ipykernel)",
   "language": "python",
   "name": "python3"
  },
  "language_info": {
   "codemirror_mode": {
    "name": "ipython",
    "version": 3
   },
   "file_extension": ".py",
   "mimetype": "text/x-python",
   "name": "python",
   "nbconvert_exporter": "python",
   "pygments_lexer": "ipython3",
   "version": "3.9.7"
  }
 },
 "nbformat": 4,
 "nbformat_minor": 5
}
