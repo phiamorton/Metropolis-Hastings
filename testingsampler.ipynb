{
 "cells": [
  {
   "cell_type": "code",
   "execution_count": 19,
   "id": "d8e3574a",
   "metadata": {},
   "outputs": [],
   "source": [
    "from sampler import samplefromGaussian as sfG\n",
    "\n",
    "import numpy as np\n",
    "import matplotlib.pyplot as plt"
   ]
  },
  {
   "cell_type": "code",
   "execution_count": 23,
   "id": "db4e7bc9",
   "metadata": {},
   "outputs": [
    {
     "data": {
      "text/plain": [
       "(array([ 174.,  461.,  608.,  964., 1495., 1558., 1427., 1123., 1780.,\n",
       "         410.]),\n",
       " array([-70.90920646, -62.65491785, -54.40062924, -46.14634063,\n",
       "        -37.89205203, -29.63776342, -21.38347481, -13.1291862 ,\n",
       "         -4.8748976 ,   3.37939101,  11.63367962]),\n",
       " <BarContainer object of 10 artists>)"
      ]
     },
     "execution_count": 23,
     "metadata": {},
     "output_type": "execute_result"
    },
    {
     "data": {
      "image/png": "[encoded data removed]",
      "text/plain": [
       "<Figure size 432x288 with 1 Axes>"
      ]
     },
     "metadata": {
      "needs_background": "light"
     },
     "output_type": "display_data"
    }
   ],
   "source": [
    "\n",
    "\n",
    "# def Gauss(x,mean=0, var=1):\n",
    "#     return (1/(np.sqrt(2*np.pi))*np.exp(-1/2*(x)**2))\n",
    "\n",
    "Gauss= lambda x: (1/(np.sqrt(2*np.pi))*np.exp(-1/2*(x)**2))\n",
    "\n",
    "maxstep=1\n",
    "initialpoint=-0.5\n",
    "numsteps=10000\n",
    "\n",
    "output=sfG(Gauss, maxstep, initialpoint, numsteps)\n",
    "\n",
    "plt.hist(output)"
   ]
  },
  {
   "cell_type": "code",
   "execution_count": null,
   "id": "71106efa",
   "metadata": {},
   "outputs": [],
   "source": []
  }
 ],
 "metadata": {
  "kernelspec": {
   "display_name": "Python 3 (ipykernel)",
   "language": "python",
   "name": "python3"
  },
  "language_info": {
   "codemirror_mode": {
    "name": "ipython",
    "version": 3
   },
   "file_extension": ".py",
   "mimetype": "text/x-python",
   "name": "python",
   "nbconvert_exporter": "python",
   "pygments_lexer": "ipython3",
   "version": "3.9.7"
  }
 },
 "nbformat": 4,
 "nbformat_minor": 5
}
