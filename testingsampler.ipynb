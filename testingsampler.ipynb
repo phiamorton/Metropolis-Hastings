{
 "cells": [
  {
   "cell_type": "code",
   "execution_count": null,
   "id": "d8e3574a",
   "metadata": {},
   "outputs": [],
   "source": [
    "from sampler import samplefromGaussian as sfG\n",
    "import numpy as np\n",
    "import matplotlib.pyplot as plt\n",
    "from numba import jit"
   ]
  },
  {
   "cell_type": "code",
   "execution_count": null,
   "id": "db4e7bc9",
   "metadata": {},
   "outputs": [],
   "source": [
    "\n",
    "Gauss= jit(lambda x: (1/(np.sqrt(2*np.pi))*np.exp(-1/2*(x)**2)))\n",
    "\n",
    "maxstep=0.1\n",
    "initialpoint=-0.5\n",
    "numsteps=1000000\n",
    "\n",
    "output=sfG(Gauss, maxstep, initialpoint, numsteps)\n",
    "\n",
    "plt.hist(output, histtype = 'step', density = True, bins = int(np.sqrt(len(output))))\n",
    "x = np.linspace(-5,5,1000)\n",
    "plt.plot(x, Gauss(x), label = '$\\\\mathcal{N}(x|0,1)$')\n",
    "plt.legend(loc = 0)\n",
    "plt.xlabel('$x$')\n",
    "plt.ylabel('$p(x)$')"
   ]
  },
  {
   "cell_type": "code",
   "execution_count": null,
   "id": "71106efa",
   "metadata": {},
   "outputs": [],
   "source": []
  }
 ],
 "metadata": {
  "kernelspec": {
   "display_name": "Python 3 (ipykernel)",
   "language": "python",
   "name": "python3"
  },
  "language_info": {
   "codemirror_mode": {
    "name": "ipython",
    "version": 3
   },
   "file_extension": ".py",
   "mimetype": "text/x-python",
   "name": "python",
   "nbconvert_exporter": "python",
   "pygments_lexer": "ipython3",
   "version": "3.9.13"
  }
 },
 "nbformat": 4,
 "nbformat_minor": 5
}
